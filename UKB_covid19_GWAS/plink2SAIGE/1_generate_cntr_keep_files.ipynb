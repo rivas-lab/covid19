{
 "cells": [
  {
   "cell_type": "code",
   "execution_count": 1,
   "metadata": {},
   "outputs": [],
   "source": [
    "suppressWarnings(suppressPackageStartupMessages({\n",
    "    library(tidyverse)\n",
    "    library(data.table)\n",
    "}))\n"
   ]
  },
  {
   "cell_type": "code",
   "execution_count": 2,
   "metadata": {},
   "outputs": [],
   "source": [
    "in_f <- '@@@@@@@@@@@@@@@@@@@'\n"
   ]
  },
  {
   "cell_type": "code",
   "execution_count": 3,
   "metadata": {},
   "outputs": [],
   "source": [
    "df <- fread(in_f) %>%\n",
    "rename('FID'='#FID')\n"
   ]
  },
  {
   "cell_type": "code",
   "execution_count": 8,
   "metadata": {},
   "outputs": [],
   "source": [
    "for(pop in c('white_british', 'non_british_white', 'african', 's_asian', 'e_asian')){\n",
    "    df %>%\n",
    "    filter(covid19_test_result == 1) %>%\n",
    "    filter(population == pop) %>%\n",
    "    select(FID, IID) %>%   \n",
    "    rename('#FID' = 'FID') %>%\n",
    "    fwrite(\n",
    "        file.path(\n",
    "            '@@@@@@@@@@@@@@@@@@@',\n",
    "            '@@@@@@@@@@@@@@@@@@@',\n",
    "            sprintf('ukb24983_%s.covid19_negative.phe', pop)\n",
    "        ), sep='\\t', na = \"NA\", quote=F\n",
    "    )\n",
    "}\n"
   ]
  },
  {
   "cell_type": "code",
   "execution_count": 9,
   "metadata": {},
   "outputs": [],
   "source": [
    "df %>%\n",
    "filter(covid19_test_result == 1) %>%\n",
    "filter(population %in% c('white_british', 'non_british_white')) %>%\n",
    "select(FID, IID) %>%   \n",
    "rename('#FID' = 'FID') %>%\n",
    "fwrite(\n",
    "    file.path(\n",
    "        '@@@@@@@@@@@@@@@@@@@',\n",
    "        '@@@@@@@@@@@@@@@@@@@',\n",
    "        sprintf('ukb24983_%s.covid19_negative.phe', 'WB_NBW')\n",
    "    ), sep='\\t', na = \"NA\", quote=F\n",
    ")\n"
   ]
  },
  {
   "cell_type": "code",
   "execution_count": null,
   "metadata": {},
   "outputs": [],
   "source": []
  }
 ],
 "metadata": {
  "kernelspec": {
   "display_name": "R",
   "language": "R",
   "name": "ir"
  },
  "language_info": {
   "codemirror_mode": "r",
   "file_extension": ".r",
   "mimetype": "text/x-r-source",
   "name": "R",
   "pygments_lexer": "r",
   "version": "3.6.1"
  }
 },
 "nbformat": 4,
 "nbformat_minor": 4
}
